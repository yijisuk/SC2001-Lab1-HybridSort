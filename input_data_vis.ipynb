{
 "cells": [
  {
   "cell_type": "code",
   "execution_count": 3,
   "metadata": {},
   "outputs": [],
   "source": [
    "import os\n",
    "\n",
    "batch0_data_path = os.path.join(\"data_storage\", \"input_data\", \"batch_0\")\n",
    "batch1_data_path = os.path.join(\"data_storage\", \"input_data\", \"batch_1\")\n",
    "batch2_data_path = os.path.join(\"data_storage\", \"input_data\", \"batch_2\")\n",
    "\n",
    "dataOne = \"10**3-10**4.csv\"\n",
    "dataTwo = \"10**4-10**5.csv\"\n",
    "dataThree = \"10**5-10**6.csv\"\n",
    "dataFour = \"10**6-10**7.csv\""
   ]
  },
  {
   "cell_type": "code",
   "execution_count": 4,
   "metadata": {},
   "outputs": [],
   "source": [
    "import pandas as pd\n",
    "\n",
    "da_path = os.path.join(batch0_data_path, dataThree)\n",
    "df = pd.read_csv(da_path)\n",
    "df.head()"
   ]
  },
  {
   "cell_type": "code",
   "execution_count": null,
   "metadata": {},
   "outputs": [],
   "source": []
  }
 ],
 "metadata": {
  "kernelspec": {
   "display_name": "Python 3",
   "language": "python",
   "name": "python3"
  },
  "language_info": {
   "codemirror_mode": {
    "name": "ipython",
    "version": 3
   },
   "file_extension": ".py",
   "mimetype": "text/x-python",
   "name": "python",
   "nbconvert_exporter": "python",
   "pygments_lexer": "ipython3",
   "version": "3.10.7"
  },
  "orig_nbformat": 4
 },
 "nbformat": 4,
 "nbformat_minor": 2
}
