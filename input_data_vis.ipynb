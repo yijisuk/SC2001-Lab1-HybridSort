{
 "cells": [
  {
   "cell_type": "code",
   "execution_count": 1,
   "metadata": {},
   "outputs": [],
   "source": [
    "import os\n",
    "\n",
    "batch0_data_path = os.path.join(\"data_storage\", \"input_data\", \"batch_0\")\n",
    "batch1_data_path = os.path.join(\"data_storage\", \"input_data\", \"batch_1\")\n",
    "batch2_data_path = os.path.join(\"data_storage\", \"input_data\", \"batch_2\")\n",
    "\n",
    "dataOne = \"10**3-10**4.csv\"\n",
    "dataTwo = \"10**4-10**5.csv\"\n",
    "dataThree = \"10**5-10**6.csv\"\n",
    "dataFour = \"10**6-10**7.csv\""
   ]
  },
  {
   "cell_type": "code",
   "execution_count": 2,
   "metadata": {},
   "outputs": [
    {
     "data": {
      "text/html": [
       "<div>\n",
       "<style scoped>\n",
       "    .dataframe tbody tr th:only-of-type {\n",
       "        vertical-align: middle;\n",
       "    }\n",
       "\n",
       "    .dataframe tbody tr th {\n",
       "        vertical-align: top;\n",
       "    }\n",
       "\n",
       "    .dataframe thead th {\n",
       "        text-align: right;\n",
       "    }\n",
       "</style>\n",
       "<table border=\"1\" class=\"dataframe\">\n",
       "  <thead>\n",
       "    <tr style=\"text-align: right;\">\n",
       "      <th></th>\n",
       "      <th>length</th>\n",
       "      <th>array</th>\n",
       "    </tr>\n",
       "  </thead>\n",
       "  <tbody>\n",
       "    <tr>\n",
       "      <th>0</th>\n",
       "      <td>1000</td>\n",
       "      <td>[652074, 998124, 314110, 427941, 114829, 96819...</td>\n",
       "    </tr>\n",
       "    <tr>\n",
       "      <th>1</th>\n",
       "      <td>1001</td>\n",
       "      <td>[252610, 128191, 13138, 678308, 94474, 759472,...</td>\n",
       "    </tr>\n",
       "    <tr>\n",
       "      <th>2</th>\n",
       "      <td>1002</td>\n",
       "      <td>[54066, 730789, 466379, 193682, 804450, 860858...</td>\n",
       "    </tr>\n",
       "    <tr>\n",
       "      <th>3</th>\n",
       "      <td>1003</td>\n",
       "      <td>[857224, 822312, 927986, 390485, 14588, 883137...</td>\n",
       "    </tr>\n",
       "    <tr>\n",
       "      <th>4</th>\n",
       "      <td>1004</td>\n",
       "      <td>[500568, 303010, 231139, 817491, 566885, 21875...</td>\n",
       "    </tr>\n",
       "  </tbody>\n",
       "</table>\n",
       "</div>"
      ],
      "text/plain": [
       "   length                                              array\n",
       "0    1000  [652074, 998124, 314110, 427941, 114829, 96819...\n",
       "1    1001  [252610, 128191, 13138, 678308, 94474, 759472,...\n",
       "2    1002  [54066, 730789, 466379, 193682, 804450, 860858...\n",
       "3    1003  [857224, 822312, 927986, 390485, 14588, 883137...\n",
       "4    1004  [500568, 303010, 231139, 817491, 566885, 21875..."
      ]
     },
     "execution_count": 2,
     "metadata": {},
     "output_type": "execute_result"
    }
   ],
   "source": [
    "import pandas as pd\n",
    "\n",
    "df_one_path = os.path.join(batch0_data_path, dataOne)\n",
    "df_one = pd.read_csv(df_one_path)\n",
    "df_one.head()"
   ]
  }
 ],
 "metadata": {
  "kernelspec": {
   "display_name": "Python 3",
   "language": "python",
   "name": "python3"
  },
  "language_info": {
   "codemirror_mode": {
    "name": "ipython",
    "version": 3
   },
   "file_extension": ".py",
   "mimetype": "text/x-python",
   "name": "python",
   "nbconvert_exporter": "python",
   "pygments_lexer": "ipython3",
   "version": "3.10.7"
  },
  "orig_nbformat": 4
 },
 "nbformat": 4,
 "nbformat_minor": 2
}
