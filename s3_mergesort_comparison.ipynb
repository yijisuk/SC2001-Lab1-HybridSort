{
 "cells": [
  {
   "cell_type": "markdown",
   "metadata": {},
   "source": [
    "## 3. Hybrid Sort vs Merge Sort"
   ]
  },
  {
   "cell_type": "markdown",
   "metadata": {},
   "source": [
    "The selections for Optimal ```S``` are: ```10```, ```11```, ```12```, ```13```, ```14```"
   ]
  },
  {
   "cell_type": "code",
   "execution_count": 1,
   "metadata": {},
   "outputs": [],
   "source": [
    "import os\n",
    "from tqdm import tqdm\n",
    "import pandas as pd\n",
    "import random\n",
    "\n",
    "from sort_functions.sort_functions import PythonSortFunctions, CSortFunctions\n",
    "\n",
    "PSF = PythonSortFunctions()\n",
    "CSF = CSortFunctions()"
   ]
  },
  {
   "cell_type": "code",
   "execution_count": 2,
   "metadata": {},
   "outputs": [],
   "source": [
    "def generate_numbers(order_type: str) -> list:\n",
    "\n",
    "    max_power = 6\n",
    "    max_length = 10**max_power + 1\n",
    "\n",
    "    gen_list = list(range(1, max_length))\n",
    "\n",
    "    if order_type == \"ascending\":\n",
    "        return gen_list\n",
    "    \n",
    "    elif order_type == \"random\":\n",
    "        \n",
    "        random_order = gen_list.copy()\n",
    "        random.shuffle(random_order)\n",
    "        return random_order\n",
    "    \n",
    "    elif order_type == \"descending\":\n",
    "        return gen_list[::-1]"
   ]
  },
  {
   "cell_type": "code",
   "execution_count": 3,
   "metadata": {},
   "outputs": [],
   "source": [
    "best_case = generate_numbers(\"ascending\")\n",
    "worst_case = generate_numbers(\"descending\")\n",
    "average_case = generate_numbers(\"random\")\n",
    "\n",
    "scenarios = [best_case, worst_case, average_case]"
   ]
  },
  {
   "cell_type": "code",
   "execution_count": 4,
   "metadata": {},
   "outputs": [],
   "source": [
    "# Python Analysis\n",
    "def hybrid_sort_python_analysis(array: list, S: int) -> list:\n",
    "\n",
    "    return PSF.hybrid_sort(array=array, threshold=S, do_not_return_sorted_data=True)\n",
    "\n",
    "def merge_sort_python_analysis(array: list) -> list:\n",
    "\n",
    "    return PSF.sort(array=array, option=\"merge\", do_not_return_sorted_data=True)\n",
    "\n",
    "# C Analysis\n",
    "def hybrid_sort_c_analysis(array: list, S: int) -> list:\n",
    "\n",
    "    return CSF.hybrid_sort(array=array, threshold=S, do_not_return_sorted_data=True)\n",
    "\n",
    "def merge_sort_c_analysis(array: list) -> list:\n",
    "\n",
    "    return CSF.sort(array=array, option=\"merge\", do_not_return_sorted_data=True)"
   ]
  },
  {
   "cell_type": "code",
   "execution_count": 5,
   "metadata": {},
   "outputs": [],
   "source": [
    "# Merge Sort\n",
    "def merge_sort_analysis(scenarios: list) -> pd.DataFrame:\n",
    "\n",
    "    mp_key_comp_python_list = []\n",
    "    mp_sort_time_python_list = []\n",
    "\n",
    "    mc_key_comp_c_list = []\n",
    "    mc_sort_time_c_list = []\n",
    "\n",
    "    for arr in tqdm(scenarios):\n",
    "\n",
    "        mp_key_comp, mp_sort_time = merge_sort_python_analysis(arr)\n",
    "        mc_key_comp, mc_sort_time = merge_sort_c_analysis(arr)\n",
    "\n",
    "        mp_key_comp_python_list.append(mp_key_comp)\n",
    "        mp_sort_time_python_list.append(mp_sort_time)\n",
    "\n",
    "        mc_key_comp_c_list.append(mc_key_comp)\n",
    "        mc_sort_time_c_list.append(mc_sort_time)\n",
    "\n",
    "    python_avg_key_comparisons = sum(mp_key_comp_python_list) / len(scenarios)\n",
    "    python_avg_sort_time = sum(mp_sort_time_python_list) / len(scenarios)\n",
    "\n",
    "    c_avg_key_comparisons = sum(mc_key_comp_c_list) / len(scenarios)\n",
    "    c_avg_sort_time = sum(mc_sort_time_c_list) / len(scenarios)\n",
    "\n",
    "    return pd.DataFrame([{\n",
    "        \"python_avg_key_comparisons\": python_avg_key_comparisons,\n",
    "        \"python_avg_sort_time\": python_avg_sort_time,\n",
    "        \"c_avg_key_comparisons\": c_avg_key_comparisons,\n",
    "        \"c_avg_sort_time\": c_avg_sort_time\n",
    "    }])\n",
    "\n",
    "\n",
    "# Hybrid Sort\n",
    "def hybrid_sort_analysis(scenarios: list) -> pd.DataFrame:\n",
    "\n",
    "    s_options = [10, 11, 12, 13, 14]\n",
    "    data = []\n",
    "\n",
    "    for S in tqdm(s_options):\n",
    "\n",
    "        print(f\"Running for S = {S}\")\n",
    "\n",
    "        hp_key_comp_python_list = []\n",
    "        hp_sort_time_python_list = []\n",
    "\n",
    "        hc_key_comp_c_list = []\n",
    "        hc_sort_time_c_list = []\n",
    "        \n",
    "        for arr in scenarios:\n",
    "            hp_key_comp, hp_sort_time = hybrid_sort_python_analysis(arr, S)\n",
    "            hc_key_comp, hc_sort_time = hybrid_sort_c_analysis(arr, S)\n",
    "\n",
    "            hp_key_comp_python_list.append(hp_key_comp)\n",
    "            hp_sort_time_python_list.append(hp_sort_time)\n",
    "\n",
    "            hc_key_comp_c_list.append(hc_key_comp)\n",
    "            hc_sort_time_c_list.append(hc_sort_time)\n",
    "\n",
    "        python_avg_key_comparisons = sum(hp_key_comp_python_list) / len(scenarios)\n",
    "        python_avg_sort_time = sum(hp_sort_time_python_list) / len(scenarios)\n",
    "\n",
    "        c_avg_key_comparisons = sum(hc_key_comp_c_list) / len(scenarios)\n",
    "        c_avg_sort_time = sum(hc_sort_time_c_list) / len(scenarios)\n",
    "\n",
    "        data.append({\n",
    "            \"S\": S,\n",
    "            \"python_avg_key_comparisons\": python_avg_key_comparisons,\n",
    "            \"python_avg_sort_time\": python_avg_sort_time,\n",
    "            \"c_avg_key_comparisons\": c_avg_key_comparisons,\n",
    "            \"c_avg_sort_time\": c_avg_sort_time\n",
    "        })\n",
    "\n",
    "    data = pd.DataFrame(data)\n",
    "\n",
    "    return data"
   ]
  },
  {
   "cell_type": "code",
   "execution_count": 6,
   "metadata": {},
   "outputs": [
    {
     "name": "stderr",
     "output_type": "stream",
     "text": [
      "100%|██████████| 3/3 [00:16<00:00,  5.65s/it]\n",
      "  0%|          | 0/5 [00:00<?, ?it/s]"
     ]
    },
    {
     "name": "stdout",
     "output_type": "stream",
     "text": [
      "Running for S = 10\n"
     ]
    },
    {
     "name": "stderr",
     "output_type": "stream",
     "text": [
      " 20%|██        | 1/5 [00:14<00:58, 14.60s/it]"
     ]
    },
    {
     "name": "stdout",
     "output_type": "stream",
     "text": [
      "Running for S = 11\n"
     ]
    },
    {
     "name": "stderr",
     "output_type": "stream",
     "text": [
      " 40%|████      | 2/5 [00:29<00:43, 14.60s/it]"
     ]
    },
    {
     "name": "stdout",
     "output_type": "stream",
     "text": [
      "Running for S = 12\n"
     ]
    },
    {
     "name": "stderr",
     "output_type": "stream",
     "text": [
      " 60%|██████    | 3/5 [00:46<00:31, 15.97s/it]"
     ]
    },
    {
     "name": "stdout",
     "output_type": "stream",
     "text": [
      "Running for S = 13\n"
     ]
    },
    {
     "name": "stderr",
     "output_type": "stream",
     "text": [
      " 80%|████████  | 4/5 [01:02<00:15, 15.88s/it]"
     ]
    },
    {
     "name": "stdout",
     "output_type": "stream",
     "text": [
      "Running for S = 14\n"
     ]
    },
    {
     "name": "stderr",
     "output_type": "stream",
     "text": [
      "100%|██████████| 5/5 [01:23<00:00, 16.65s/it]\n"
     ]
    }
   ],
   "source": [
    "msa = merge_sort_analysis(scenarios)\n",
    "hsa = hybrid_sort_analysis(scenarios)\n",
    "\n",
    "base_path = os.path.join(\"data_storage\", \"final_comparison\")\n",
    "\n",
    "if not os.path.exists(base_path):\n",
    "    os.makedirs(base_path)\n",
    "\n",
    "msa.to_csv(os.path.join(base_path, \"merge_sort_analysis.csv\"), index=False)\n",
    "hsa.to_csv(os.path.join(base_path, \"hybrid_sort_analysis.csv\"), index=False)"
   ]
  },
  {
   "cell_type": "code",
   "execution_count": 7,
   "metadata": {},
   "outputs": [
    {
     "name": "stdout",
     "output_type": "stream",
     "text": [
      "Best S value for Python: 10\n",
      "Best S value for C: 11\n"
     ]
    }
   ],
   "source": [
    "p_Sval = int(hsa.loc[hsa[\"python_avg_sort_time\"].idxmin()][\"S\"])\n",
    "c_Sval = int(hsa.loc[hsa[\"c_avg_sort_time\"].idxmin()][\"S\"])\n",
    "\n",
    "print(f\"Best S value for Python: {p_Sval}\")\n",
    "print(f\"Best S value for C: {c_Sval}\")"
   ]
  },
  {
   "cell_type": "code",
   "execution_count": 8,
   "metadata": {},
   "outputs": [
    {
     "name": "stdout",
     "output_type": "stream",
     "text": [
      "Final S value: 10\n"
     ]
    }
   ],
   "source": [
    "S = (p_Sval + c_Sval) // 2\n",
    "print(f\"Final S value: {S}\")"
   ]
  },
  {
   "cell_type": "markdown",
   "metadata": {},
   "source": [
    "The final ```S``` value concludes to ```12```"
   ]
  },
  {
   "cell_type": "markdown",
   "metadata": {},
   "source": [
    "### Comparison Details"
   ]
  },
  {
   "cell_type": "code",
   "execution_count": 9,
   "metadata": {},
   "outputs": [
    {
     "data": {
      "text/html": [
       "<div>\n",
       "<style scoped>\n",
       "    .dataframe tbody tr th:only-of-type {\n",
       "        vertical-align: middle;\n",
       "    }\n",
       "\n",
       "    .dataframe tbody tr th {\n",
       "        vertical-align: top;\n",
       "    }\n",
       "\n",
       "    .dataframe thead th {\n",
       "        text-align: right;\n",
       "    }\n",
       "</style>\n",
       "<table border=\"1\" class=\"dataframe\">\n",
       "  <thead>\n",
       "    <tr style=\"text-align: right;\">\n",
       "      <th></th>\n",
       "      <th>S</th>\n",
       "      <th>python_avg_key_comparisons</th>\n",
       "      <th>python_avg_sort_time</th>\n",
       "      <th>c_avg_key_comparisons</th>\n",
       "      <th>c_avg_sort_time</th>\n",
       "    </tr>\n",
       "  </thead>\n",
       "  <tbody>\n",
       "    <tr>\n",
       "      <th>0</th>\n",
       "      <td>10</td>\n",
       "      <td>12916823.0</td>\n",
       "      <td>4.500324</td>\n",
       "      <td>1.125230e+07</td>\n",
       "      <td>0.348541</td>\n",
       "    </tr>\n",
       "    <tr>\n",
       "      <th>1</th>\n",
       "      <td>11</td>\n",
       "      <td>12916823.0</td>\n",
       "      <td>4.529100</td>\n",
       "      <td>1.125230e+07</td>\n",
       "      <td>0.321607</td>\n",
       "    </tr>\n",
       "    <tr>\n",
       "      <th>2</th>\n",
       "      <td>12</td>\n",
       "      <td>12916823.0</td>\n",
       "      <td>5.499726</td>\n",
       "      <td>1.125230e+07</td>\n",
       "      <td>0.349712</td>\n",
       "    </tr>\n",
       "    <tr>\n",
       "      <th>3</th>\n",
       "      <td>13</td>\n",
       "      <td>12916823.0</td>\n",
       "      <td>4.891121</td>\n",
       "      <td>1.125230e+07</td>\n",
       "      <td>0.342805</td>\n",
       "    </tr>\n",
       "    <tr>\n",
       "      <th>4</th>\n",
       "      <td>14</td>\n",
       "      <td>12916823.0</td>\n",
       "      <td>6.434713</td>\n",
       "      <td>1.125230e+07</td>\n",
       "      <td>0.449404</td>\n",
       "    </tr>\n",
       "  </tbody>\n",
       "</table>\n",
       "</div>"
      ],
      "text/plain": [
       "    S  python_avg_key_comparisons  python_avg_sort_time  \\\n",
       "0  10                  12916823.0              4.500324   \n",
       "1  11                  12916823.0              4.529100   \n",
       "2  12                  12916823.0              5.499726   \n",
       "3  13                  12916823.0              4.891121   \n",
       "4  14                  12916823.0              6.434713   \n",
       "\n",
       "   c_avg_key_comparisons  c_avg_sort_time  \n",
       "0           1.125230e+07         0.348541  \n",
       "1           1.125230e+07         0.321607  \n",
       "2           1.125230e+07         0.349712  \n",
       "3           1.125230e+07         0.342805  \n",
       "4           1.125230e+07         0.449404  "
      ]
     },
     "execution_count": 9,
     "metadata": {},
     "output_type": "execute_result"
    }
   ],
   "source": [
    "hsa"
   ]
  },
  {
   "cell_type": "code",
   "execution_count": 10,
   "metadata": {},
   "outputs": [
    {
     "data": {
      "text/html": [
       "<div>\n",
       "<style scoped>\n",
       "    .dataframe tbody tr th:only-of-type {\n",
       "        vertical-align: middle;\n",
       "    }\n",
       "\n",
       "    .dataframe tbody tr th {\n",
       "        vertical-align: top;\n",
       "    }\n",
       "\n",
       "    .dataframe thead th {\n",
       "        text-align: right;\n",
       "    }\n",
       "</style>\n",
       "<table border=\"1\" class=\"dataframe\">\n",
       "  <thead>\n",
       "    <tr style=\"text-align: right;\">\n",
       "      <th></th>\n",
       "      <th>python_avg_key_comparisons</th>\n",
       "      <th>python_avg_sort_time</th>\n",
       "      <th>c_avg_key_comparisons</th>\n",
       "      <th>c_avg_sort_time</th>\n",
       "    </tr>\n",
       "  </thead>\n",
       "  <tbody>\n",
       "    <tr>\n",
       "      <th>0</th>\n",
       "      <td>12874849.0</td>\n",
       "      <td>5.252251</td>\n",
       "      <td>12874849.0</td>\n",
       "      <td>0.384374</td>\n",
       "    </tr>\n",
       "  </tbody>\n",
       "</table>\n",
       "</div>"
      ],
      "text/plain": [
       "   python_avg_key_comparisons  python_avg_sort_time  c_avg_key_comparisons  \\\n",
       "0                  12874849.0              5.252251             12874849.0   \n",
       "\n",
       "   c_avg_sort_time  \n",
       "0         0.384374  "
      ]
     },
     "execution_count": 10,
     "metadata": {},
     "output_type": "execute_result"
    }
   ],
   "source": [
    "msa"
   ]
  },
  {
   "cell_type": "code",
   "execution_count": 11,
   "metadata": {},
   "outputs": [],
   "source": [
    "def get_avg_sort_time(S:int, lang: str) -> float:\n",
    "\n",
    "    if lang == \"python\":\n",
    "        return round(hsa.loc[hsa[\"S\"] == S][\"python_avg_sort_time\"].values[0], 3)\n",
    "    \n",
    "    elif lang == \"c\":\n",
    "        return round(hsa.loc[hsa[\"S\"] == S][\"c_avg_sort_time\"].values[0], 3)\n",
    "    \n",
    "def get_avg_key_comparison(S: int, lang: str) -> float:\n",
    "\n",
    "    if lang == \"python\":\n",
    "        return round(hsa.loc[hsa[\"S\"] == S][\"python_avg_key_comparisons\"].values[0], 3)\n",
    "    \n",
    "    elif lang == \"c\":\n",
    "        return round(hsa.loc[hsa[\"S\"] == S][\"c_avg_key_comparisons\"].values[0], 3)"
   ]
  },
  {
   "cell_type": "code",
   "execution_count": 12,
   "metadata": {},
   "outputs": [],
   "source": [
    "msa_python_st = round(msa[\"python_avg_sort_time\"].iloc[0], 3)\n",
    "msa_c_st = round(msa[\"c_avg_sort_time\"].iloc[0], 3)\n",
    "\n",
    "msa_python_kc = round(msa[\"python_avg_key_comparisons\"].iloc[0], 3)\n",
    "msa_c_kc = round(msa[\"c_avg_key_comparisons\"].iloc[0], 3)"
   ]
  },
  {
   "cell_type": "code",
   "execution_count": 13,
   "metadata": {},
   "outputs": [
    {
     "data": {
      "image/png": "[encoded data removed]",
      "text/plain": [
       "<Figure size 1200x600 with 1 Axes>"
      ]
     },
     "metadata": {},
     "output_type": "display_data"
    }
   ],
   "source": [
    "import seaborn as sns\n",
    "import matplotlib.pyplot as plt\n",
    "\n",
    "plt.figure(figsize=(12, 6))\n",
    "\n",
    "sns.lineplot(x=\"S\", y=\"python_avg_sort_time\", data=hsa, label=\"Python (Hybrid)\",\n",
    "             color=\"blue\", markers=True, dashes=False, legend=True)\n",
    "\n",
    "sns.lineplot(x=\"S\", y=\"c_avg_sort_time\", data=hsa, label=\"C (Hybrid)\",\n",
    "             color=\"green\", markers=True, dashes=False, legend=True)\n",
    "\n",
    "plt.axhline(y=msa[\"python_avg_sort_time\"].iloc[0], label=\"Python (Merge)\", \n",
    "            color=\"r\", linestyle='--')\n",
    "\n",
    "plt.axhline(y=msa[\"c_avg_sort_time\"].iloc[0], label=\"C (Merge)\", \n",
    "            color=\"orange\", linestyle='--')\n",
    "\n",
    "plt.xticks(hsa[\"S\"].unique())\n",
    "\n",
    "plt.title(\"Hybrid vs Merge Sort (Time)\")\n",
    "plt.legend()\n",
    "plt.show()"
   ]
  },
  {
   "cell_type": "code",
   "execution_count": 14,
   "metadata": {},
   "outputs": [
    {
     "data": {
      "image/png": "[encoded data removed]",
      "text/plain": [
       "<Figure size 1200x600 with 1 Axes>"
      ]
     },
     "metadata": {},
     "output_type": "display_data"
    }
   ],
   "source": [
    "plt.figure(figsize=(12, 6))\n",
    "\n",
    "sns.lineplot(x=\"S\", y=\"python_avg_key_comparisons\", data=hsa, label=\"Python (Hybrid)\",\n",
    "             color=\"blue\", markers=True, dashes=False, legend=True)\n",
    "\n",
    "sns.lineplot(x=\"S\", y=\"c_avg_key_comparisons\", data=hsa, label=\"C (Hybrid)\",\n",
    "             color=\"green\", markers=True, dashes=False, legend=True)\n",
    "\n",
    "plt.axhline(y=msa[\"python_avg_key_comparisons\"].iloc[0], label=\"Merge\", \n",
    "            color=\"r\", linestyle='--')\n",
    "\n",
    "plt.xticks(hsa[\"S\"].unique())\n",
    "\n",
    "plt.title(\"Hybrid vs Merge Sort (Key Comparison)\")\n",
    "plt.legend()\n",
    "plt.show()"
   ]
  },
  {
   "cell_type": "code",
   "execution_count": 15,
   "metadata": {},
   "outputs": [
    {
     "name": "stdout",
     "output_type": "stream",
     "text": [
      "Using a S value of 13, we get the following results:\n",
      "\n",
      "    Avg. Sort Time (Python): 4.891 seconds\n",
      "    -> Hybrid sort is 0.36099999999999977 seconds faster than merge sort (Python)\n",
      "\n",
      "    Avg. Key Comparisons (Python): 12916823.0\n",
      "    -> Merge sort has 41974.0 less key comparisons than hybrid sort (Python)\n",
      "\n",
      "\n",
      "Using a S value of 11, we get the following results:\n",
      "\n",
      "    Avg. Sort Time (C): 0.322 seconds\n",
      "    -> Hybrid sort is 0.062 seconds faster than merge sort (C)\n",
      "\n",
      "    Avg. Key Comparisons (C): 11252299.667\n",
      "    -> Hybrid sort has 1622549.3330000006 less key comparisons than merge sort (C)\n",
      "\n"
     ]
    }
   ],
   "source": [
    "# S = 13 ================================================\n",
    "print(\"Using a S value of 13, we get the following results:\\n\")\n",
    "\n",
    "# S = 13, Avg. Sort Time\n",
    "s_13_python_st = get_avg_sort_time(13, \"python\")\n",
    "print(f\"    Avg. Sort Time (Python): {s_13_python_st} seconds\")\n",
    "\n",
    "s_13_st_diff = abs(s_13_python_st - msa_python_st)\n",
    "\n",
    "if s_13_python_st < msa_python_st:\n",
    "    print(f\"    -> Hybrid sort is {s_13_st_diff} seconds faster than merge sort (Python)\\n\")\n",
    "else:\n",
    "    print(f\"    -> Merge sort is {s_13_st_diff} seconds faster than hybrid sort (Python)\\n\")\n",
    "\n",
    "# S = 13, Avg. Key Comparisons\n",
    "s_13_python_kc = get_avg_key_comparison(13, \"python\")\n",
    "print(f\"    Avg. Key Comparisons (Python): {s_13_python_kc}\")\n",
    "\n",
    "s_13_kc_diff = abs(s_13_python_kc - msa_python_kc)\n",
    "\n",
    "if s_13_python_kc < msa_python_kc:\n",
    "    print(f\"    -> Hybrid sort has {s_13_kc_diff} less key comparisons than merge sort (Python)\\n\")\n",
    "else:\n",
    "    print(f\"    -> Merge sort has {s_13_kc_diff} less key comparisons than hybrid sort (Python)\\n\")\n",
    "\n",
    "\n",
    "# S = 11 ================================================\n",
    "print(\"\\nUsing a S value of 11, we get the following results:\\n\")\n",
    "\n",
    "# S = 11, Avg. Sort Time\n",
    "s_11_c_st = get_avg_sort_time(11, \"c\")\n",
    "print(f\"    Avg. Sort Time (C): {s_11_c_st} seconds\")\n",
    "\n",
    "s_11_st_diff = abs(s_11_c_st - msa_c_st)\n",
    "\n",
    "if s_11_c_st < msa_c_st:\n",
    "    print(f\"    -> Hybrid sort is {s_11_st_diff} seconds faster than merge sort (C)\\n\")\n",
    "else:\n",
    "    print(f\"    -> Merge sort is {s_11_st_diff} seconds faster than hybrid sort (C)\\n\")\n",
    "\n",
    "# S = 11, Avg. Key Comparisons\n",
    "s_11_c_kc = get_avg_key_comparison(11, \"c\")\n",
    "print(f\"    Avg. Key Comparisons (C): {s_11_c_kc}\")\n",
    "\n",
    "s_11_kc_diff = abs(s_11_c_kc - msa_c_kc)\n",
    "\n",
    "if s_11_c_kc < msa_c_kc:\n",
    "    print(f\"    -> Hybrid sort has {s_11_kc_diff} less key comparisons than merge sort (C)\\n\")\n",
    "else:\n",
    "    print(f\"    -> Merge sort has {s_11_kc_diff} less key comparisons than hybrid sort (C)\\n\")"
   ]
  }
 ],
 "metadata": {
  "kernelspec": {
   "display_name": "Python 3",
   "language": "python",
   "name": "python3"
  },
  "language_info": {
   "codemirror_mode": {
    "name": "ipython",
    "version": 3
   },
   "file_extension": ".py",
   "mimetype": "text/x-python",
   "name": "python",
   "nbconvert_exporter": "python",
   "pygments_lexer": "ipython3",
   "version": "3.10.7"
  },
  "orig_nbformat": 4
 },
 "nbformat": 4,
 "nbformat_minor": 2
}
