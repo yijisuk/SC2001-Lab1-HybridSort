{
 "cells": [
  {
   "cell_type": "markdown",
   "metadata": {},
   "source": [
    "The selections for Optimal ```S``` are: ```10```, ```11```, ```12```, ```13```, ```14```"
   ]
  },
  {
   "cell_type": "code",
   "execution_count": 1,
   "metadata": {},
   "outputs": [],
   "source": [
    "import os\n",
    "from tqdm import tqdm\n",
    "import pandas as pd\n",
    "import random\n",
    "\n",
    "from sort_functions.sort_functions import PythonSortFunctions, CSortFunctions\n",
    "\n",
    "PSF = PythonSortFunctions()\n",
    "CSF = CSortFunctions()"
   ]
  },
  {
   "cell_type": "code",
   "execution_count": 2,
   "metadata": {},
   "outputs": [],
   "source": [
    "def generate_numbers(order_type: str) -> list:\n",
    "\n",
    "    max_power = 6\n",
    "    max_length = 10**max_power + 1\n",
    "\n",
    "    gen_list = list(range(1, max_length))\n",
    "\n",
    "    if order_type == \"ascending\":\n",
    "        return gen_list\n",
    "    \n",
    "    elif order_type == \"random\":\n",
    "        \n",
    "        random_order = gen_list.copy()\n",
    "        random.shuffle(random_order)\n",
    "        return random_order\n",
    "    \n",
    "    elif order_type == \"descending\":\n",
    "        return gen_list[::-1]"
   ]
  },
  {
   "cell_type": "code",
   "execution_count": 3,
   "metadata": {},
   "outputs": [],
   "source": [
    "best_case = generate_numbers(\"ascending\")\n",
    "worst_case = generate_numbers(\"descending\")\n",
    "average_case = generate_numbers(\"random\")\n",
    "\n",
    "scenarios = [best_case, worst_case, average_case]"
   ]
  },
  {
   "cell_type": "code",
   "execution_count": null,
   "metadata": {},
   "outputs": [],
   "source": [
    "# Python Analysis\n",
    "def hybrid_sort_python_analysis(array: list, S: int) -> list:\n",
    "\n",
    "    return PSF.hybrid_sort(array=array, threshold=S, do_not_return_sorted_data=True)\n",
    "\n",
    "def merge_sort_python_analysis(array: list) -> list:\n",
    "\n",
    "    return PSF.sort(array=array, option=\"merge\", do_not_return_sorted_data=True)\n",
    "\n",
    "# C Analysis\n",
    "def hybrid_sort_c_analysis(array: list, S: int) -> list:\n",
    "\n",
    "    return CSF.hybrid_sort(array=array, threshold=S, do_not_return_sorted_data=True)\n",
    "\n",
    "def merge_sort_c_analysis(array: list) -> list:\n",
    "\n",
    "    return CSF.sort(array=array, option=\"merge\", do_not_return_sorted_data=True)"
   ]
  },
  {
   "cell_type": "code",
   "execution_count": 4,
   "metadata": {},
   "outputs": [],
   "source": [
    "# Merge Sort\n",
    "def merge_sort_analysis(scenarios: list) -> pd.DataFrame:\n",
    "\n",
    "    mp_key_comp_python_list = []\n",
    "    mp_sort_time_python_list = []\n",
    "\n",
    "    mc_key_comp_c_list = []\n",
    "    mc_sort_time_c_list = []\n",
    "\n",
    "    for arr in tqdm(scenarios):\n",
    "\n",
    "        mp_key_comp, mp_sort_time = merge_sort_python_analysis(arr)\n",
    "        mc_key_comp, mc_sort_time = merge_sort_c_analysis(arr)\n",
    "\n",
    "        mp_key_comp_python_list.append(mp_key_comp)\n",
    "        mp_sort_time_python_list.append(mp_sort_time)\n",
    "\n",
    "        mc_key_comp_c_list.append(mc_key_comp)\n",
    "        mc_sort_time_c_list.append(mc_sort_time)\n",
    "\n",
    "    python_avg_key_comparisons = sum(mp_key_comp_python_list) / len(scenarios)\n",
    "    python_avg_sort_time = sum(mp_sort_time_python_list) / len(scenarios)\n",
    "\n",
    "    c_avg_key_comparisons = sum(mc_key_comp_c_list) / len(scenarios)\n",
    "    c_avg_sort_time = sum(mc_sort_time_c_list) / len(scenarios)\n",
    "\n",
    "    return pd.DataFrame([{\n",
    "        \"python_avg_key_comparisons\": python_avg_key_comparisons,\n",
    "        \"python_avg_sort_time\": python_avg_sort_time,\n",
    "        \"c_avg_key_comparisons\": c_avg_key_comparisons,\n",
    "        \"c_avg_sort_time\": c_avg_sort_time\n",
    "    }])\n",
    "\n",
    "\n",
    "# Hybrid Sort\n",
    "def hybrid_sort_analysis(scenarios: list) -> pd.DataFrame:\n",
    "\n",
    "    s_options = [10, 11, 12, 13, 14]\n",
    "    data = []\n",
    "\n",
    "    for S in tqdm(s_options):\n",
    "\n",
    "        print(f\"Running for S = {S}\")\n",
    "\n",
    "        hp_key_comp_python_list = []\n",
    "        hp_sort_time_python_list = []\n",
    "\n",
    "        hc_key_comp_c_list = []\n",
    "        hc_sort_time_c_list = []\n",
    "        \n",
    "        for arr in scenarios:\n",
    "            hp_key_comp, hp_sort_time = hybrid_sort_python_analysis(arr, S)\n",
    "            hc_key_comp, hc_sort_time = hybrid_sort_c_analysis(arr, S)\n",
    "\n",
    "            hp_key_comp_python_list.append(hp_key_comp)\n",
    "            hp_sort_time_python_list.append(hp_sort_time)\n",
    "\n",
    "            hc_key_comp_c_list.append(hc_key_comp)\n",
    "            hc_sort_time_c_list.append(hc_sort_time)\n",
    "\n",
    "        python_avg_key_comparisons = sum(hp_key_comp_python_list) / len(scenarios)\n",
    "        python_avg_sort_time = sum(hp_sort_time_python_list) / len(scenarios)\n",
    "\n",
    "        c_avg_key_comparisons = sum(hc_key_comp_c_list) / len(scenarios)\n",
    "        c_avg_sort_time = sum(hc_sort_time_c_list) / len(scenarios)\n",
    "\n",
    "        data.append({\n",
    "            \"S\": S,\n",
    "            \"python_avg_key_comparisons\": python_avg_key_comparisons,\n",
    "            \"python_avg_sort_time\": python_avg_sort_time,\n",
    "            \"c_avg_key_comparisons\": c_avg_key_comparisons,\n",
    "            \"c_avg_sort_time\": c_avg_sort_time\n",
    "        })\n",
    "\n",
    "    data = pd.DataFrame(data)\n",
    "\n",
    "    return data"
   ]
  },
  {
   "cell_type": "code",
   "execution_count": 6,
   "metadata": {},
   "outputs": [
    {
     "name": "stderr",
     "output_type": "stream",
     "text": [
      "100%|██████████| 3/3 [00:18<00:00,  6.08s/it]\n",
      "  0%|          | 0/5 [00:00<?, ?it/s]"
     ]
    },
    {
     "name": "stdout",
     "output_type": "stream",
     "text": [
      "Running for S = 10\n"
     ]
    },
    {
     "name": "stderr",
     "output_type": "stream",
     "text": [
      " 20%|██        | 1/5 [00:15<01:02, 15.62s/it]"
     ]
    },
    {
     "name": "stdout",
     "output_type": "stream",
     "text": [
      "Running for S = 11\n"
     ]
    },
    {
     "name": "stderr",
     "output_type": "stream",
     "text": [
      " 40%|████      | 2/5 [00:30<00:45, 15.19s/it]"
     ]
    },
    {
     "name": "stdout",
     "output_type": "stream",
     "text": [
      "Running for S = 12\n"
     ]
    },
    {
     "name": "stderr",
     "output_type": "stream",
     "text": [
      " 60%|██████    | 3/5 [00:45<00:29, 14.93s/it]"
     ]
    },
    {
     "name": "stdout",
     "output_type": "stream",
     "text": [
      "Running for S = 13\n"
     ]
    },
    {
     "name": "stderr",
     "output_type": "stream",
     "text": [
      " 80%|████████  | 4/5 [00:59<00:14, 14.77s/it]"
     ]
    },
    {
     "name": "stdout",
     "output_type": "stream",
     "text": [
      "Running for S = 14\n"
     ]
    },
    {
     "name": "stderr",
     "output_type": "stream",
     "text": [
      "100%|██████████| 5/5 [01:14<00:00, 14.85s/it]\n"
     ]
    }
   ],
   "source": [
    "msa = merge_sort_analysis(scenarios)\n",
    "hsa = hybrid_sort_analysis(scenarios)\n",
    "\n",
    "base_path = os.path.join(\"data_storage\", \"final_comparison\")\n",
    "\n",
    "if not os.path.exists(base_path):\n",
    "    os.makedirs(base_path)\n",
    "\n",
    "msa.to_csv(os.path.join(base_path, \"merge_sort_analysis.csv\"), index=False)\n",
    "hsa.to_csv(os.path.join(base_path, \"hybrid_sort_analysis.csv\"), index=False)"
   ]
  },
  {
   "cell_type": "code",
   "execution_count": 8,
   "metadata": {},
   "outputs": [
    {
     "name": "stdout",
     "output_type": "stream",
     "text": [
      "Best S value for Python: 13\n",
      "Best S value for C: 11\n"
     ]
    }
   ],
   "source": [
    "p_Sval = int(hsa.loc[hsa[\"python_avg_sort_time\"].idxmin()][\"S\"])\n",
    "c_Sval = int(hsa.loc[hsa[\"c_avg_sort_time\"].idxmin()][\"S\"])\n",
    "\n",
    "print(f\"Best S value for Python: {p_Sval}\")\n",
    "print(f\"Best S value for C: {c_Sval}\")"
   ]
  },
  {
   "cell_type": "code",
   "execution_count": 9,
   "metadata": {},
   "outputs": [
    {
     "name": "stdout",
     "output_type": "stream",
     "text": [
      "Final S value: 12\n"
     ]
    }
   ],
   "source": [
    "S = (p_Sval + c_Sval) // 2\n",
    "print(f\"Final S value: {S}\")"
   ]
  },
  {
   "cell_type": "markdown",
   "metadata": {},
   "source": [
    "The final ```S``` value concludes to ```12```"
   ]
  }
 ],
 "metadata": {
  "kernelspec": {
   "display_name": "Python 3",
   "language": "python",
   "name": "python3"
  },
  "language_info": {
   "codemirror_mode": {
    "name": "ipython",
    "version": 3
   },
   "file_extension": ".py",
   "mimetype": "text/x-python",
   "name": "python",
   "nbconvert_exporter": "python",
   "pygments_lexer": "ipython3",
   "version": "3.10.7"
  },
  "orig_nbformat": 4
 },
 "nbformat": 4,
 "nbformat_minor": 2
}
